{
  "nbformat": 4,
  "nbformat_minor": 0,
  "metadata": {
    "colab": {
      "name": "GPFA sampling.ipynb",
      "version": "0.3.2",
      "provenance": [],
      "collapsed_sections": [],
      "include_colab_link": true
    },
    "kernelspec": {
      "name": "python3",
      "display_name": "Python 3"
    }
  },
  "cells": [
    {
      "cell_type": "markdown",
      "metadata": {
        "id": "view-in-github",
        "colab_type": "text"
      },
      "source": [
        "<a href=\"https://colab.research.google.com/github/harvineet/py-gpfa/blob/master/GPFA_sampling.ipynb\" target=\"_parent\"><img src=\"https://colab.research.google.com/assets/colab-badge.svg\" alt=\"Open In Colab\"/></a>"
      ]
    },
    {
      "metadata": {
        "id": "w1cr0lms6fc8",
        "colab_type": "code",
        "colab": {}
      },
      "cell_type": "code",
      "source": [
        "#Initialize \n",
        "import numpy as np\n",
        "import math \n",
        "T = 20\n",
        "t = 10\n",
        "q = 8\n",
        "p = 6\n",
        "R = np.zeros((q,q))\n",
        "np.fill_diagonal(R,np.random.uniform(0,2))\n",
        "C = np.random.uniform(0,2,q*p).reshape(q,p)\n",
        "d = np.random.uniform(0,2,q)\n",
        "sigma_n = np.array([0.001]*p)\n",
        "sigma_f = np.array([1]*p) - sigma_n\n",
        "tau = np.random.uniform(1,10,p)\n",
        "lambd = 1 #not sure about this one\n",
        "K = []\n",
        "for i in range(p):\n",
        "  K.append(np.zeros((T,T)))\n",
        "for i in range(p):\n",
        "  for t1 in range(len(K[i])):\n",
        "    for t2 in range (len(K[i][t1])):\n",
        "      K[i][t1][t2] = sigma_f[i] * np.exp(-(t1-t2)**2/(2*tau[i]))+sigma_n[i]*lambd\n"
      ],
      "execution_count": 0,
      "outputs": []
    },
    {
      "metadata": {
        "id": "8Vj3SF5-CoHk",
        "colab_type": "code",
        "colab": {}
      },
      "cell_type": "code",
      "source": [
        "# sampling x_i, in the paper they sample by identity covirance matrix\n",
        "# building matrix X and Y\n",
        "\n",
        "X= np.random.multivariate_normal(np.zeros(T),np.identity(T),p)\n",
        "Y = []\n",
        "for i in range(len(X.T)):\n",
        "  Y.append(np.random.multivariate_normal((np.dot(C,X.T[i])+d),R))\n",
        "\n"
      ],
      "execution_count": 0,
      "outputs": []
    }
  ]
}