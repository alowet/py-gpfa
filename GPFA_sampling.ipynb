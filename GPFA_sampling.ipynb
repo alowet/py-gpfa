{
  "nbformat": 4,
  "nbformat_minor": 0,
  "metadata": {
    "colab": {
      "name": "GPFA sampling.ipynb",
      "version": "0.3.2",
      "provenance": [],
      "collapsed_sections": [],
      "include_colab_link": true
    },
    "kernelspec": {
      "name": "python3",
      "display_name": "Python 3"
    }
  },
  "cells": [
    {
      "cell_type": "markdown",
      "metadata": {
        "id": "view-in-github",
        "colab_type": "text"
      },
      "source": [
        "<a href=\"https://colab.research.google.com/github/harvineet/py-gpfa/blob/master/GPFA_sampling.ipynb\" target=\"_parent\"><img src=\"https://colab.research.google.com/assets/colab-badge.svg\" alt=\"Open In Colab\"/></a>"
      ]
    },
    {
      "metadata": {
        "id": "w1cr0lms6fc8",
        "colab_type": "code",
        "colab": {}
      },
      "cell_type": "code",
      "source": [
        "#Initialize \n",
        "import numpy as np\n",
        "import math \n",
        "T = 20\n",
        "t = 10\n",
        "q = 8\n",
        "p = 6\n",
        "R = np.zeros((q,q))\n",
        "np.fill_diagonal(R,np.random.uniform(0,2))\n",
        "C = np.random.uniform(0,2,q*p).reshape(q,p)\n",
        "d = np.random.uniform(0,2,q)\n",
        "sigma_n = np.array([0.001]*p)\n",
        "sigma_f = np.array([1]*p) - sigma_n\n",
        "tau = np.random.uniform(1,10,p)\n",
        "\n",
        "K = []\n",
        "for i in range(p):\n",
        "  K.append(np.zeros((T,T)))\n",
        "for i in range(p):\n",
        "  for t1 in range(len(K[i])):\n",
        "    for t2 in range (len(K[i][t1])):\n",
        "      if t1 != t2:\n",
        "        K[i][t1][t2] = sigma_f[i] * np.exp(-(t1-t2)**2/(2*tau[i]))\n",
        "      else:\n",
        "        K[i][t1][t2] = sigma_f[i] + sigma_n[i]\n",
        "        \n",
        "      \n"
      ],
      "execution_count": 0,
      "outputs": []
    },
    {
      "metadata": {
        "id": "8Vj3SF5-CoHk",
        "colab_type": "code",
        "colab": {
          "base_uri": "https://localhost:8080/",
          "height": 552
        },
        "outputId": "16ed8484-704e-443d-eacc-7b7ac73580e5"
      },
      "cell_type": "code",
      "source": [
        "# sampling x_i, in the paper they sample by identity covirance matrix\n",
        "# building matrix X and Y\n",
        "X = []\n",
        "for i in range (len(K)):\n",
        "  X.append (np.random.multivariate_normal(np.zeros(T),K[1],1)[0])\n",
        "X = np.array(X)\n",
        "Y = []\n",
        "for i in range(len(X.T)):\n",
        "  Y.append(np.random.multivariate_normal((np.dot(C,X.T[i])+d),R))\n",
        "Y = np.array(Y).T\n",
        "Y\n"
      ],
      "execution_count": 15,
      "outputs": [
        {
          "output_type": "execute_result",
          "data": {
            "text/plain": [
              "array([[ 1.58904298,  0.28880738, -1.2591051 , -3.4595221 , -3.97739409,\n",
              "        -3.29503571, -3.39152108, -3.82275637, -3.37537467, -4.88664456,\n",
              "        -3.55023397, -3.3614519 , -0.73105439, -0.09957005, -1.13070457,\n",
              "         0.87651409, -1.58982648,  1.65617017, -0.14158472,  3.25488101],\n",
              "       [-1.5009394 ,  1.49500911, -1.88855974, -2.18314085, -3.19452541,\n",
              "        -4.93523635, -3.15509354, -2.63387788, -0.35507359, -2.74883812,\n",
              "        -3.62504282, -2.01271806, -0.53273065, -0.85699944, -2.45263776,\n",
              "        -3.27471664, -1.16226015, -0.97377589,  2.11590049,  2.59332761],\n",
              "       [-0.22182252, -0.03098423, -3.86976498, -5.3609128 , -5.2332941 ,\n",
              "        -3.67800089, -5.88569169, -4.69827729, -4.83134046, -4.37070821,\n",
              "        -3.45351845, -3.57055928, -1.47437257, -1.86191191, -2.48590781,\n",
              "        -1.30871509, -1.940662  ,  0.02577792,  0.23618598,  0.83289385],\n",
              "       [-2.61845505, -1.84657788, -2.8406853 , -5.52515671, -7.52845448,\n",
              "        -5.11213972, -6.57303958, -4.62861983, -3.54781142, -2.61700876,\n",
              "        -4.2876084 , -3.99695765, -3.19377049, -3.61518197, -1.72598534,\n",
              "        -1.80582945, -0.48933162, -0.27419207,  2.04146513,  2.83012064],\n",
              "       [-1.0650227 , -6.08484142, -6.07972557, -7.67738651, -6.56973841,\n",
              "        -7.85623528, -5.46845723, -5.9889009 , -5.11264698, -4.16876176,\n",
              "        -2.69817383, -3.36999569, -5.08657816, -3.87654369, -3.03340513,\n",
              "        -3.07495711, -2.01410142, -2.5557514 ,  0.19766695, -0.06358253],\n",
              "       [-2.34217407, -3.53968047, -3.08080235, -5.99250838, -7.1521358 ,\n",
              "        -6.98901594, -8.02572536, -6.32488746, -4.25228438, -5.3824914 ,\n",
              "        -3.92750138, -3.24143648, -2.14722346,  0.80372588, -1.44456717,\n",
              "        -1.12255905, -3.84861646, -1.31685487,  0.44359201, -1.20016415],\n",
              "       [-2.19529644, -3.77406344, -2.15368447, -2.49605379, -3.79488636,\n",
              "        -2.93175496, -4.34725906, -3.54008344, -4.02364716, -3.35246916,\n",
              "        -4.73728909, -2.68092245, -4.90421649, -3.15435992, -2.93880002,\n",
              "        -2.42294324, -3.20835594, -0.01732355, -2.69600466, -0.17767275],\n",
              "       [-0.76214799, -4.20725533, -2.48749542, -5.89771858, -5.8690784 ,\n",
              "        -7.95715785, -7.2435991 , -6.17079989, -4.50224752, -3.58891716,\n",
              "        -3.81609982, -2.84187604, -2.51433028, -0.6037146 , -1.85345448,\n",
              "        -1.7684011 , -0.70574465, -0.83912596, -0.47147822,  2.33786483]])"
            ]
          },
          "metadata": {
            "tags": []
          },
          "execution_count": 15
        }
      ]
    }
  ]
}